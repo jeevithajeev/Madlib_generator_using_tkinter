{
 "cells": [
  {
   "cell_type": "code",
   "execution_count": 10,
   "metadata": {},
   "outputs": [
    {
     "name": "stdout",
     "output_type": "stream",
     "text": [
      "Hello, Jeevitha\n",
      "enter verb: jumping\n",
      "enter noun: jee\n",
      "enter adjective: nice\n",
      "enter adverb: again\n",
      "The day I saw the Monkey King jumping was one of the most interesting days of the year. After he did that, the king played chess on his brother`s jee and then combed his nice hair with a comb made out of old fish bones. Later that same day, I saw the Monkey King dance again in front of an audience of kangaroos and wombats.\n"
     ]
    }
   ],
   "source": [
    "from tkinter import *\n",
    "root = Tk()\n",
    "root.geometry('300x300')\n",
    "root.title('Madlib Game')\n",
    "name_label = Label(root, text=\"Name: \").pack(side=\"left\", padx=(0,10))\n",
    "name = StringVar()\n",
    "button_1 = Entry(root, width=20, textvariable=name).pack(side=\"left\")\n",
    "\n",
    "#Greet function\n",
    "def greet():\n",
    "    print(f'Hello, {name.get()}')\n",
    "    \n",
    "#Monkey King function \n",
    "def madlib_gen1():\n",
    "    verb = input(\"enter verb: \")\n",
    "    noun = input(\"enter noun: \")\n",
    "    adjective = input(\"enter adjective: \")\n",
    "    adverb = input(\"enter adverb: \")\n",
    "    print(f'The day I saw the Monkey King {verb} was one of the most interesting \\\n",
    "days of the year. After he did that, the king played chess on his brother`s {noun} \\\n",
    "and then combed his {adjective} hair with a comb made out of old fish bones. Later \\\n",
    "that same day, I saw the Monkey King dance {adverb} in front of an \\\n",
    "audience of kangaroos and wombats.')\n",
    "\n",
    "#Big Mac Who? function\n",
    "def madlib_gen2():\n",
    "    last_name = input(\"Enter last name: \")\n",
    "    noun = input(\"ENter noun: \")\n",
    "    letter = input(\"Enter a letter: \")\n",
    "    three_letter_noun = input(\"Enter three letter noun: \")\n",
    "    plural_noun = input(\"Enter plural noun: \")\n",
    "    type_of_sound = input(\"Enter type of sound: \")\n",
    "    print(f'Big Mc {last_name} had a {noun}, {letter}-{three_letter_noun},\\\n",
    "{letter}-{three_letter_noun} O.On this {noun} he had some {plural_noun},\\\n",
    "{letter}-{three_letter_noun}, {letter}-{three_letter_noun} O. With a \\\n",
    "{type_of_sound}-{type_of_sound} here, and a {type_of_sound}-{type_of_sound} \\\n",
    "there, everywhere a {type_of_sound}-{type_of_sound} {letter}- \\\n",
    "{three_letter_noun}, {letter}-{three_letter_noun} O.')\n",
    "\n",
    "greet_button = Button(root, text=\"Greet\", command=greet, bg='grey')\n",
    "greet_button.pack(side=\"left\", fill=\"x\", expand=True)\n",
    "button_2 = Button(root, text = \"Monkey King\", font = 'arial 15', command = madlib_gen1, bg = 'grey')\n",
    "button_2.place(x=70, y=180)\n",
    "button_3 = Button(root, text = \"Big Mac Who?\", font = 'arial 15', command = madlib_gen2, bg = 'grey')\n",
    "button_3.place(x=80, y=240)\n",
    "root.mainloop()"
   ]
  },
  {
   "cell_type": "code",
   "execution_count": null,
   "metadata": {},
   "outputs": [],
   "source": []
  },
  {
   "cell_type": "code",
   "execution_count": null,
   "metadata": {},
   "outputs": [],
   "source": []
  }
 ],
 "metadata": {
  "kernelspec": {
   "display_name": "Python 3",
   "language": "python",
   "name": "python3"
  },
  "language_info": {
   "codemirror_mode": {
    "name": "ipython",
    "version": 3
   },
   "file_extension": ".py",
   "mimetype": "text/x-python",
   "name": "python",
   "nbconvert_exporter": "python",
   "pygments_lexer": "ipython3",
   "version": "3.8.5"
  }
 },
 "nbformat": 4,
 "nbformat_minor": 4
}
